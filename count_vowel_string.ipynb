{
 "cells": [
  {
   "cell_type": "code",
   "execution_count": 106,
   "metadata": {},
   "outputs": [
    {
     "name": "stdout",
     "output_type": "stream",
     "text": [
      "[1, 0, 1, 1, 1]\n",
      "2\n",
      "3\n",
      "0\n",
      "[2, 3, 0]\n"
     ]
    }
   ],
   "source": [
    "words = [\"aba\",\"bcb\",\"ece\",\"aa\",\"e\"]\n",
    "queries = [[0,2],[1,4],[1,1]]\n",
    "vowels = [\"a\",\"e\",\"i\",\"o\",\"u\"]\n",
    "checkVowels = [0]*len(words)\n",
    "result = []\n",
    "for index,let in enumerate (words):\n",
    "    if let[0] in vowels and let[-1] in vowels:\n",
    "        checkVowels[index] = 1  \n",
    "    else: \n",
    "        checkVowels[index] = 0\n",
    "countVowel = 0\n",
    "print(checkVowels)\n",
    "for i in queries:\n",
    "    \n",
    "    countVowel = sum(checkVowels[i[0]:i[1]+1])\n",
    "    print(countVowel)\n",
    "    result.append(countVowel)\n",
    "print(result)"
   ]
  }
 ],
 "metadata": {
  "kernelspec": {
   "display_name": "Python 3",
   "language": "python",
   "name": "python3"
  },
  "language_info": {
   "codemirror_mode": {
    "name": "ipython",
    "version": 3
   },
   "file_extension": ".py",
   "mimetype": "text/x-python",
   "name": "python",
   "nbconvert_exporter": "python",
   "pygments_lexer": "ipython3",
   "version": "3.11.1"
  },
  "orig_nbformat": 4,
  "vscode": {
   "interpreter": {
    "hash": "382ea7a64b13ec9db8c569f6d3ce723e765b5c94a792c5e862f5099aea1a4d23"
   }
  }
 },
 "nbformat": 4,
 "nbformat_minor": 2
}
