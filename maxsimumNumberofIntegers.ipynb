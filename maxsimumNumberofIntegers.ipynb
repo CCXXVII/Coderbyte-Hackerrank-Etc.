{
 "cells": [
  {
   "cell_type": "code",
   "execution_count": 40,
   "metadata": {},
   "outputs": [
    {
     "data": {
      "text/plain": [
       "[6, 7]"
      ]
     },
     "execution_count": 40,
     "metadata": {},
     "output_type": "execute_result"
    }
   ],
   "source": [
    "banned = [1,2,3,4,5]\n",
    "n=70\n",
    "maxSum = 13\n",
    "\n",
    "\n",
    "arr = list(range(1, n+1))\n",
    "new_arr = [x for x in arr if x not in banned and x<maxSum]\n",
    "length = len(new_arr)\n",
    "new_arr.sort()\n",
    "\n",
    "count = 0\n",
    "total = sum(new_arr)\n",
    "while total > maxSum:\n",
    "    count +=1\n",
    "    new_arr = new_arr[:-1]\n",
    "    total = sum(new_arr)\n",
    "\n",
    "index = length - count\n",
    "last_arr = new_arr[0:index]\n",
    "last_arr\n",
    "\n",
    "\n"
   ]
  }
 ],
 "metadata": {
  "kernelspec": {
   "display_name": "Python 3",
   "language": "python",
   "name": "python3"
  },
  "language_info": {
   "codemirror_mode": {
    "name": "ipython",
    "version": 3
   },
   "file_extension": ".py",
   "mimetype": "text/x-python",
   "name": "python",
   "nbconvert_exporter": "python",
   "pygments_lexer": "ipython3",
   "version": "3.11.1"
  },
  "orig_nbformat": 4,
  "vscode": {
   "interpreter": {
    "hash": "382ea7a64b13ec9db8c569f6d3ce723e765b5c94a792c5e862f5099aea1a4d23"
   }
  }
 },
 "nbformat": 4,
 "nbformat_minor": 2
}
