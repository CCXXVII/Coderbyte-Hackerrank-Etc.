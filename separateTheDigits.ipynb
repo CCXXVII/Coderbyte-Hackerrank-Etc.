{
 "cells": [
  {
   "cell_type": "code",
   "execution_count": 1,
   "metadata": {},
   "outputs": [
    {
     "name": "stdout",
     "output_type": "stream",
     "text": [
      "9\n",
      "num 12\n",
      "2\n",
      "num 1\n",
      "1\n",
      "num 0\n",
      "5\n",
      "num 3\n",
      "3\n",
      "num 0\n",
      "[9, 2, 1, 5, 3]\n"
     ]
    }
   ],
   "source": [
    "arr = [129,35]\n",
    "digits = []\n",
    "for num in arr:\n",
    "    while num > 0:\n",
    "        digit = num % 10\n",
    "        print(digit)\n",
    "        digits.append(digit)\n",
    "        num = num // 10\n",
    "        print(\"num\",num)\n",
    "print(digits)"
   ]
  }
 ],
 "metadata": {
  "kernelspec": {
   "display_name": "Python 3",
   "language": "python",
   "name": "python3"
  },
  "language_info": {
   "codemirror_mode": {
    "name": "ipython",
    "version": 3
   },
   "file_extension": ".py",
   "mimetype": "text/x-python",
   "name": "python",
   "nbconvert_exporter": "python",
   "pygments_lexer": "ipython3",
   "version": "3.11.1"
  },
  "orig_nbformat": 4,
  "vscode": {
   "interpreter": {
    "hash": "382ea7a64b13ec9db8c569f6d3ce723e765b5c94a792c5e862f5099aea1a4d23"
   }
  }
 },
 "nbformat": 4,
 "nbformat_minor": 2
}
